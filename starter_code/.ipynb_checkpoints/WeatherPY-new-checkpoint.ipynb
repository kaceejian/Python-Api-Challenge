{
 "cells": [
  {
   "cell_type": "markdown",
   "metadata": {},
   "source": [
    "# WeatherPy\n",
    "----\n",
    "\n",
    "#### Note\n",
    "* Instructions have been included for each segment. You do not have to follow them exactly, but they are included to help you think through the steps."
   ]
  },
  {
   "cell_type": "code",
   "execution_count": 2,
   "metadata": {
    "scrolled": true
   },
   "outputs": [
    {
     "ename": "ModuleNotFoundError",
     "evalue": "No module named 'my_keys'",
     "output_type": "error",
     "traceback": [
      "\u001b[1;31m---------------------------------------------------------------------------\u001b[0m",
      "\u001b[1;31mModuleNotFoundError\u001b[0m                       Traceback (most recent call last)",
      "\u001b[1;32m<ipython-input-2-77c7699715d4>\u001b[0m in \u001b[0;36m<module>\u001b[1;34m\u001b[0m\n\u001b[0;32m      8\u001b[0m \u001b[1;33m\u001b[0m\u001b[0m\n\u001b[0;32m      9\u001b[0m \u001b[1;31m# Import API key\u001b[0m\u001b[1;33m\u001b[0m\u001b[1;33m\u001b[0m\u001b[1;33m\u001b[0m\u001b[0m\n\u001b[1;32m---> 10\u001b[1;33m \u001b[1;32mfrom\u001b[0m \u001b[0mmy_keys\u001b[0m \u001b[1;32mimport\u001b[0m \u001b[0mweather_api_key\u001b[0m\u001b[1;33m\u001b[0m\u001b[1;33m\u001b[0m\u001b[0m\n\u001b[0m\u001b[0;32m     11\u001b[0m \u001b[1;33m\u001b[0m\u001b[0m\n\u001b[0;32m     12\u001b[0m \u001b[1;31m# Incorporated citipy to determine city based on latitude and longitude\u001b[0m\u001b[1;33m\u001b[0m\u001b[1;33m\u001b[0m\u001b[1;33m\u001b[0m\u001b[0m\n",
      "\u001b[1;31mModuleNotFoundError\u001b[0m: No module named 'my_keys'"
     ]
    }
   ],
   "source": [
    "# Dependencies and Setup\n",
    "import matplotlib.pyplot as plt\n",
    "import pandas as pd\n",
    "import numpy as np\n",
    "import requests\n",
    "import time\n",
    "from scipy.stats import linregress\n",
    "\n",
    "# Import API key\n",
    "from my_keys import weather_api_key\n",
    "\n",
    "# Incorporated citipy to determine city based on latitude and longitude\n",
    "from citipy import citipy\n",
    "\n",
    "# Output File (CSV)\n",
    "output_data_file = \"output_data/cities.csv\"\n",
    "\n",
    "# Range of latitudes and longitudes\n",
    "lat_range = (-90, 90)\n",
    "lng_range = (-180, 180)\n"
   ]
  },
  {
   "cell_type": "code",
   "execution_count": 2,
   "metadata": {},
   "outputs": [
    {
     "name": "stdout",
     "output_type": "stream",
     "text": [
      "Requirement already satisfied: kdtree in c:\\users\\krist\\anaconda3\\lib\\site-packages (0.16)\n"
     ]
    }
   ],
   "source": [
    "!C:\\Users\\krist\\anaconda3\\Scripts\\pip.exe install kdtree"
   ]
  },
  {
   "cell_type": "code",
   "execution_count": 3,
   "metadata": {},
   "outputs": [
    {
     "name": "stdout",
     "output_type": "stream",
     "text": [
      "Requirement already satisfied: citipy in c:\\users\\krist\\appdata\\local\\programs\\python\\python39\\lib\\site-packages (0.0.5)\n",
      "Requirement already satisfied: kdtree>=0.12 in c:\\users\\krist\\appdata\\local\\programs\\python\\python39\\lib\\site-packages (from citipy) (0.16)\n"
     ]
    },
    {
     "name": "stderr",
     "output_type": "stream",
     "text": [
      "WARNING: You are using pip version 21.1.1; however, version 21.2.4 is available.\n",
      "You should consider upgrading via the 'c:\\users\\krist\\appdata\\local\\programs\\python\\python39\\python.exe -m pip install --upgrade pip' command.\n"
     ]
    }
   ],
   "source": [
    "!pip install citipy"
   ]
  },
  {
   "cell_type": "markdown",
   "metadata": {},
   "source": [
    "## Generate Cities List"
   ]
  },
  {
   "cell_type": "code",
   "execution_count": 1,
   "metadata": {},
   "outputs": [
    {
     "ename": "NameError",
     "evalue": "name 'np' is not defined",
     "output_type": "error",
     "traceback": [
      "\u001b[1;31m---------------------------------------------------------------------------\u001b[0m",
      "\u001b[1;31mNameError\u001b[0m                                 Traceback (most recent call last)",
      "\u001b[1;32m<ipython-input-1-48e291773e4f>\u001b[0m in \u001b[0;36m<module>\u001b[1;34m\u001b[0m\n\u001b[0;32m      5\u001b[0m \u001b[1;33m\u001b[0m\u001b[0m\n\u001b[0;32m      6\u001b[0m \u001b[1;31m# Create a set of random lat and lng combinations\u001b[0m\u001b[1;33m\u001b[0m\u001b[1;33m\u001b[0m\u001b[1;33m\u001b[0m\u001b[0m\n\u001b[1;32m----> 7\u001b[1;33m \u001b[0mlats\u001b[0m \u001b[1;33m=\u001b[0m \u001b[0mnp\u001b[0m\u001b[1;33m.\u001b[0m\u001b[0mrandom\u001b[0m\u001b[1;33m.\u001b[0m\u001b[0muniform\u001b[0m\u001b[1;33m(\u001b[0m\u001b[0mlat_range\u001b[0m\u001b[1;33m[\u001b[0m\u001b[1;36m0\u001b[0m\u001b[1;33m]\u001b[0m\u001b[1;33m,\u001b[0m \u001b[0mlat_range\u001b[0m\u001b[1;33m[\u001b[0m\u001b[1;36m1\u001b[0m\u001b[1;33m]\u001b[0m\u001b[1;33m,\u001b[0m \u001b[0msize\u001b[0m\u001b[1;33m=\u001b[0m\u001b[1;36m1500\u001b[0m\u001b[1;33m)\u001b[0m\u001b[1;33m\u001b[0m\u001b[1;33m\u001b[0m\u001b[0m\n\u001b[0m\u001b[0;32m      8\u001b[0m \u001b[0mlngs\u001b[0m \u001b[1;33m=\u001b[0m \u001b[0mnp\u001b[0m\u001b[1;33m.\u001b[0m\u001b[0mrandom\u001b[0m\u001b[1;33m.\u001b[0m\u001b[0muniform\u001b[0m\u001b[1;33m(\u001b[0m\u001b[0mlng_range\u001b[0m\u001b[1;33m[\u001b[0m\u001b[1;36m0\u001b[0m\u001b[1;33m]\u001b[0m\u001b[1;33m,\u001b[0m \u001b[0mlng_range\u001b[0m\u001b[1;33m[\u001b[0m\u001b[1;36m1\u001b[0m\u001b[1;33m]\u001b[0m\u001b[1;33m,\u001b[0m \u001b[0msize\u001b[0m\u001b[1;33m=\u001b[0m\u001b[1;36m1500\u001b[0m\u001b[1;33m)\u001b[0m\u001b[1;33m\u001b[0m\u001b[1;33m\u001b[0m\u001b[0m\n\u001b[0;32m      9\u001b[0m \u001b[1;31m#pair lat and lng together\u001b[0m\u001b[1;33m\u001b[0m\u001b[1;33m\u001b[0m\u001b[1;33m\u001b[0m\u001b[0m\n",
      "\u001b[1;31mNameError\u001b[0m: name 'np' is not defined"
     ]
    }
   ],
   "source": [
    "# List for holding lat_lngs and cities\n",
    "lat_lngs = []\n",
    "cities = []\n",
    "\n",
    "\n",
    "# Create a set of random lat and lng combinations\n",
    "lats = np.random.uniform(lat_range[0], lat_range[1], size=1500)\n",
    "lngs = np.random.uniform(lng_range[0], lng_range[1], size=1500)\n",
    "#pair lat and lng together\n",
    "lat_lngs = list(zip(lats, lngs))\n",
    "# Identify nearest city for each lat, lng combination\n",
    "for lat_lng in lat_lngs:\n",
    "#     print(lat_lng)\n",
    "       \n",
    "    city = citipy.nearest_city(lat_lng[0], lat_lng[1]).city_name\n",
    "    print(city)\n",
    "    \n",
    "    # If the city is unique, then add it to a our cities list\n",
    "#     if city not in cities:\n",
    "#         cities.append(city)\n",
    "\n",
    "# Print the city count to confirm sufficient count\n",
    "len(cities)"
   ]
  },
  {
   "cell_type": "code",
   "execution_count": 5,
   "metadata": {},
   "outputs": [
    {
     "data": {
      "text/plain": [
       "647"
      ]
     },
     "execution_count": 5,
     "metadata": {},
     "output_type": "execute_result"
    }
   ],
   "source": [
    "   # List for holding lat_lngs and cities\n",
    "lat_lngs = []\n",
    "cities = []\n",
    "\n",
    "\n",
    "# Create a set of random lat and lng combinations\n",
    "lats = np.random.uniform(lat_range[0], lat_range[1], size=1500)\n",
    "lngs = np.random.uniform(lng_range[0], lng_range[1], size=1500)\n",
    "#pair lat and lng together\n",
    "lat_lngs = list(zip(lats, lngs))\n",
    "# Identify nearest city for each lat, lng combination\n",
    "for lat_lng in lat_lngs:\n",
    "#     print(lat_lng)\n",
    "       \n",
    "    city = citipy.nearest_city(lat_lng[0], lat_lng[1]).city_name\n",
    "#     print(city)\n",
    "    \n",
    "    \n",
    "    # If the city is unique, then add it to a our cities list\n",
    "    # so there might be duplicate cities that are near to the lng and lat that are nearby, so we have to avoid putting the duplicate cities.\n",
    "    # so we do \"if city not in cities(cities is a list)\", then add this specific \"city\" to the list.\n",
    "    if city not in cities:\n",
    "        cities.append(city)\n",
    "\n",
    "# Print the city count to confirm sufficient count\n",
    "len(cities)"
   ]
  },
  {
   "cell_type": "markdown",
   "metadata": {},
   "source": [
    "## Perform API Calls\n",
    "* Perform a weather check on each city using a series of successive API calls.\n",
    "* Include a print log of each city as it'sbeing processed (with the city number and city name).\n"
   ]
  },
  {
   "cell_type": "code",
   "execution_count": null,
   "metadata": {},
   "outputs": [],
   "source": [
    "       "
   ]
  },
  {
   "cell_type": "code",
   "execution_count": 6,
   "metadata": {},
   "outputs": [
    {
     "name": "stdout",
     "output_type": "stream",
     "text": [
      "processing mataura\n",
      "processing bandarbeyla\n",
      "processing avarua\n",
      "processing qaanaaq\n",
      "processing rikitea\n",
      "processing butaritari\n",
      "processing busselton\n",
      "processing new norfolk\n",
      "processing mys shmidta\n",
      "processing belmonte\n",
      "processing lebu\n",
      "processing pisco\n",
      "processing palestina\n",
      "processing faanui\n",
      "processing neya\n",
      "processing severomuysk\n",
      "processing keelung\n",
      "processing shyryayeve\n",
      "processing yarada\n",
      "processing bluff\n",
      "processing avera\n",
      "processing hithadhoo\n",
      "processing mount gambier\n",
      "processing hermanus\n",
      "processing vaini\n",
      "processing brae\n",
      "processing punta arenas\n",
      "processing doctor pedro p. pena\n",
      "processing upernavik\n",
      "processing songea\n",
      "processing carnarvon\n",
      "processing grandview\n",
      "processing mapiri\n",
      "processing atuona\n",
      "processing ukiah\n",
      "processing narsaq\n",
      "processing orange cove\n",
      "processing hukuntsi\n",
      "processing shamkhal\n",
      "processing neryungri\n",
      "processing kloulklubed\n",
      "processing yellowknife\n",
      "processing albany\n",
      "processing cabo san lucas\n",
      "processing samusu\n",
      "processing college\n",
      "processing peniche\n",
      "processing dingle\n",
      "processing tocopilla\n",
      "processing grand-lahou\n",
      "processing kapaa\n",
      "processing cape town\n",
      "processing hilo\n",
      "processing flin flon\n",
      "processing port elizabeth\n",
      "processing fortuna\n",
      "processing sretensk\n",
      "processing ushuaia\n",
      "processing broken hill\n",
      "processing richards bay\n",
      "processing russell\n",
      "processing jamestown\n",
      "processing tuatapere\n",
      "processing bilibino\n",
      "processing ponta do sol\n",
      "processing taolanaro\n",
      "processing nizhneyansk\n",
      "processing korla\n",
      "processing te anau\n",
      "processing guerrero negro\n",
      "processing hobart\n",
      "processing nohar\n",
      "processing shepsi\n",
      "processing kodiak\n",
      "processing joshimath\n",
      "processing dien bien\n",
      "processing ulaangom\n",
      "processing nouadhibou\n",
      "processing kaspiysk\n",
      "processing karabuk\n",
      "processing mackenzie\n",
      "processing cheuskiny\n",
      "processing souillac\n",
      "processing antofagasta\n",
      "processing severo-kurilsk\n",
      "processing sabha\n",
      "processing taburi\n",
      "processing vila franca do campo\n",
      "processing illoqqortoormiut\n",
      "processing barrow\n",
      "processing muros\n",
      "processing east london\n",
      "processing malwan\n",
      "processing mantua\n",
      "processing saint-philippe\n",
      "processing portland\n",
      "processing kuala terengganu\n",
      "processing nanakuli\n",
      "processing wickford\n",
      "processing labuhan\n",
      "processing zachagansk\n",
      "processing bethel\n",
      "processing bengkulu\n",
      "processing touros\n",
      "processing attawapiskat\n",
      "processing provideniya\n",
      "processing finnsnes\n",
      "processing arraial do cabo\n",
      "processing hirado\n",
      "processing kokorevka\n",
      "processing georgetown\n",
      "processing severnoye\n",
      "processing wazzan\n",
      "processing puerto ayora\n",
      "processing saskylakh\n",
      "processing inderborskiy\n",
      "processing victoria\n",
      "processing tura\n",
      "processing mar del plata\n",
      "processing pevek\n",
      "processing hay river\n",
      "processing lansing\n",
      "processing ust-kamchatsk\n",
      "processing najran\n",
      "processing meyungs\n",
      "processing la peca\n",
      "processing oktyabrskoye\n",
      "processing skage\n",
      "processing otradnoye\n",
      "processing airai\n",
      "processing kruisfontein\n",
      "processing moyamba\n",
      "processing vanavara\n",
      "processing rolim de moura\n",
      "processing rio blanco\n",
      "processing huanren\n",
      "processing antsirabe\n",
      "processing hasaki\n",
      "processing yulara\n",
      "processing dikson\n",
      "processing ossora\n",
      "processing lolua\n",
      "processing olinda\n",
      "processing tumannyy\n",
      "processing doba\n",
      "processing henties bay\n",
      "processing lufilufi\n",
      "processing catalina\n",
      "processing olafsvik\n",
      "processing karaul\n",
      "processing christiana\n",
      "processing huesca\n",
      "processing belushya guba\n",
      "processing gorshechnoye\n",
      "processing iwanai\n",
      "processing arsk\n",
      "processing labytnangi\n",
      "processing riviere-au-renard\n",
      "processing bristol\n",
      "processing nikolskoye\n",
      "processing thompson\n",
      "processing sataua\n",
      "processing kirakira\n",
      "processing puerto madero\n",
      "processing san carlos de bariloche\n",
      "processing castro\n",
      "processing biak\n",
      "processing vila velha\n",
      "processing chokurdakh\n",
      "processing port hardy\n",
      "processing lakes entrance\n",
      "processing klaksvik\n",
      "processing port-gentil\n",
      "processing tiksi\n",
      "processing cidreira\n",
      "processing ilulissat\n",
      "processing anar darreh\n",
      "processing aklavik\n",
      "processing carahue\n",
      "processing lichuan\n",
      "processing bam\n",
      "processing charlottesville\n",
      "processing smithers\n",
      "processing sao filipe\n",
      "processing tual\n",
      "processing bolungarvik\n",
      "processing san cristobal\n",
      "processing shimoda\n",
      "processing ocampo\n",
      "processing santa cruz\n",
      "processing sur\n",
      "processing rawson\n",
      "processing saleaula\n",
      "processing mundo novo\n",
      "processing dalvik\n",
      "processing odweyne\n",
      "processing palafrugell\n",
      "processing targoviste\n",
      "processing saint george\n",
      "processing kyra\n",
      "processing grand gaube\n",
      "processing tuktoyaktuk\n",
      "processing umzimvubu\n",
      "processing longyearbyen\n",
      "processing liuzhou\n",
      "processing bantry\n",
      "processing barroualie\n",
      "processing baykalsk\n",
      "processing colac\n",
      "processing san clemente\n",
      "processing itoman\n",
      "processing bambous virieux\n",
      "processing maun\n",
      "processing camacha\n",
      "processing fairbanks\n",
      "processing cabedelo\n",
      "processing dan khun thot\n",
      "processing chuy\n",
      "processing moron\n",
      "processing huaihua\n",
      "processing barentsburg\n",
      "processing pontianak\n",
      "processing san luis\n",
      "processing iralaya\n",
      "processing talitsy\n",
      "processing camapua\n",
      "processing beyneu\n",
      "processing kathua\n",
      "processing yellandu\n",
      "processing talcahuano\n",
      "processing hokitika\n",
      "processing san quintin\n",
      "processing yusva\n",
      "processing caninde de sao francisco\n",
      "processing pangnirtung\n",
      "processing ribeira grande\n",
      "processing lata\n",
      "processing arenapolis\n",
      "processing sept-iles\n",
      "processing grand river south east\n",
      "processing geraldton\n",
      "processing ariquemes\n",
      "processing areosa\n",
      "processing darlowo\n",
      "processing naze\n",
      "processing kosa\n",
      "processing alofi\n",
      "processing kahului\n",
      "processing leiyang\n",
      "processing savinka\n",
      "processing labutta\n",
      "processing paka\n",
      "processing muhos\n",
      "processing kenora\n",
      "processing lorengau\n",
      "processing ruatoria\n",
      "processing bestobe\n",
      "processing bangangte\n",
      "processing tasiilaq\n",
      "processing balkanabat\n",
      "processing suicheng\n",
      "processing kulhudhuffushi\n",
      "processing macklin\n",
      "processing nicoya\n",
      "processing sentyabrskiy\n",
      "processing emba\n",
      "processing tukrah\n",
      "processing saint-augustin\n",
      "processing catalao\n",
      "processing mitchell\n",
      "processing ancud\n",
      "processing longkou\n",
      "processing udon thani\n",
      "processing hofn\n",
      "processing pochutla\n",
      "processing hervey bay\n",
      "processing norman wells\n",
      "processing imeni poliny osipenko\n",
      "processing tsihombe\n",
      "processing hammerfest\n",
      "processing umea\n",
      "processing palu\n",
      "processing padang\n",
      "processing ojinaga\n",
      "processing paamiut\n",
      "processing cherskiy\n",
      "processing trairi\n",
      "processing itarema\n",
      "processing salalah\n",
      "processing sinnamary\n",
      "processing uberaba\n",
      "processing port alfred\n",
      "processing buala\n",
      "processing ramygala\n",
      "processing ca mau\n",
      "processing moussoro\n",
      "processing gombong\n",
      "processing bredasdorp\n",
      "processing khash\n",
      "processing iqaluit\n",
      "processing powell\n",
      "processing stavern\n",
      "processing murgab\n",
      "processing raymond\n",
      "processing vardo\n",
      "processing altay\n",
      "processing ngukurr\n",
      "processing palabuhanratu\n",
      "processing acapulco\n",
      "processing uyemskiy\n",
      "processing waingapu\n",
      "processing benguela\n",
      "processing svetlyy\n",
      "processing norsup\n",
      "processing mitsamiouli\n",
      "processing viligili\n",
      "processing sembe\n",
      "processing port blair\n",
      "processing simbahan\n",
      "processing jicaro galan\n",
      "processing klyuchi\n",
      "processing warqla\n",
      "processing semey\n",
      "processing flinders\n",
      "processing hamilton\n",
      "processing ko samui\n",
      "processing dubrovnik\n",
      "processing ladnun\n",
      "processing presidencia roque saenz pena\n",
      "processing bataipora\n",
      "processing cikupa\n",
      "processing sholokhove\n",
      "processing chai badan\n",
      "processing portree\n",
      "processing kilindoni\n",
      "processing villamontes\n",
      "processing malazgirt\n",
      "processing zwedru\n",
      "processing abalak\n",
      "processing atar\n",
      "processing ijaki\n",
      "processing sao joao da barra\n",
      "processing anicuns\n",
      "processing yebaishou\n",
      "processing nikko\n",
      "processing svetlogorsk\n",
      "processing cozumel\n",
      "processing vao\n",
      "processing byron bay\n",
      "processing los llanos de aridane\n",
      "processing dhidhdhoo\n",
      "processing nantucket\n",
      "processing fort walton beach\n",
      "processing san giustino\n",
      "processing tawnat\n",
      "processing el higo\n",
      "processing shenzhen\n",
      "processing plettenberg bay\n",
      "processing natal\n",
      "processing igrim\n",
      "processing turukhansk\n",
      "processing praia\n",
      "processing kaitangata\n",
      "processing lamar\n",
      "processing ketchikan\n",
      "processing san vicente de chucuri\n",
      "processing da lat\n",
      "processing eldikan\n",
      "processing raga\n",
      "processing lalmohan\n",
      "processing codrington\n",
      "processing akureyri\n",
      "processing cap malheureux\n",
      "processing omsukchan\n",
      "processing baruun-urt\n",
      "processing charlestown\n",
      "processing reserva\n",
      "processing san policarpo\n",
      "processing skovorodino\n",
      "processing kavieng\n",
      "processing samalaeulu\n",
      "processing sakakah\n",
      "processing gurskoye\n",
      "processing comodoro rivadavia\n",
      "processing rocha\n",
      "processing riberalta\n",
      "processing nakhon thai\n",
      "processing ixtapa\n",
      "processing kichera\n",
      "processing marawi\n",
      "processing matadi\n",
      "processing srednekolymsk\n",
      "processing kungurtug\n",
      "processing bacungan\n",
      "processing verdalsora\n",
      "processing sorland\n",
      "processing saint-francois\n",
      "processing khatanga\n",
      "processing nguiu\n",
      "processing fort nelson\n"
     ]
    },
    {
     "name": "stdout",
     "output_type": "stream",
     "text": [
      "processing cayenne\n",
      "processing kysyl-syr\n",
      "processing nome\n",
      "processing bay roberts\n",
      "processing pedasi\n",
      "processing ginir\n",
      "processing vostok\n",
      "processing minna\n",
      "processing tasbuget\n",
      "processing honiara\n",
      "processing poum\n",
      "processing abu samrah\n",
      "processing bonneville\n",
      "processing saldanha\n",
      "processing saint anthony\n",
      "processing mazagao\n",
      "processing satitoa\n",
      "processing makushino\n",
      "processing jambi\n",
      "processing meulaboh\n",
      "processing beltangadi\n",
      "processing kapoeta\n",
      "processing mahebourg\n",
      "processing chingirlau\n",
      "processing clyde river\n",
      "processing saint-pierre\n",
      "processing yagodnoye\n",
      "processing orotukan\n",
      "processing walvis bay\n",
      "processing pontian kecil\n",
      "processing ngunguru\n",
      "processing lagoa\n",
      "processing mrirt\n",
      "processing laguna\n",
      "processing morant bay\n",
      "processing alihe\n",
      "processing ekhabi\n",
      "processing palmer\n",
      "processing seit\n",
      "processing torbay\n",
      "processing champerico\n",
      "processing clifton springs\n",
      "processing bacuit\n",
      "processing rathkeale\n",
      "processing amderma\n",
      "processing jiddah\n",
      "processing tutoia\n",
      "processing tuy hoa\n",
      "processing chino valley\n",
      "processing salekhard\n",
      "processing baherden\n",
      "processing novyy urengoy\n",
      "processing lalomanu\n",
      "processing palmas\n",
      "processing noumea\n",
      "processing vestmannaeyjar\n",
      "processing suciu de sus\n",
      "processing klamath falls\n",
      "processing alotau\n",
      "processing kaeo\n",
      "processing luderitz\n",
      "processing issenye\n",
      "processing loding\n",
      "processing lompoc\n",
      "processing zyryanka\n",
      "processing margate\n",
      "processing enid\n",
      "processing novobirilyussy\n",
      "processing camopi\n",
      "processing khalkhal\n",
      "processing carutapera\n",
      "processing boende\n",
      "processing bulaevo\n",
      "processing teya\n",
      "processing tarudant\n",
      "processing jiuquan\n",
      "processing dera ghazi khan\n",
      "processing tazovskiy\n",
      "processing felidhoo\n",
      "processing beloha\n",
      "processing mae sai\n",
      "processing veracruz\n",
      "processing siniscola\n",
      "processing kachikau\n",
      "processing lombardia\n",
      "processing nagato\n",
      "processing genhe\n",
      "processing mokhsogollokh\n",
      "processing lillooet\n",
      "processing sioux lookout\n",
      "processing puerto escondido\n",
      "processing susanville\n",
      "processing anloga\n",
      "processing yumen\n",
      "processing port macquarie\n",
      "processing hobyo\n",
      "processing kenai\n",
      "processing kendari\n",
      "processing hailar\n",
      "processing rey bouba\n",
      "processing auch\n",
      "processing caconda\n",
      "processing mae hong son\n",
      "processing waipawa\n",
      "processing suntar\n",
      "processing gat\n",
      "processing fukue\n",
      "processing wajir\n",
      "processing bereda\n",
      "processing sovetskiy\n",
      "processing kamen-na-obi\n",
      "processing soyo\n",
      "processing pleasanton\n",
      "processing batken\n",
      "processing kudahuvadhoo\n",
      "processing petropavlovka\n",
      "processing batamshinskiy\n",
      "processing golden\n",
      "processing pokhara\n",
      "processing ranong\n",
      "processing oussouye\n",
      "processing batagay-alyta\n",
      "processing constitucion\n",
      "processing maglie\n",
      "processing inveraray\n",
      "processing yambio\n",
      "processing tandur\n",
      "processing antalya\n",
      "processing karratha\n",
      "processing bonavista\n",
      "processing buraydah\n",
      "processing saint-fabien\n",
      "processing ziro\n",
      "processing port lincoln\n",
      "processing faya\n",
      "processing tunxi\n",
      "processing qaqortoq\n",
      "processing georgiyevka\n",
      "processing broome\n",
      "processing dongsheng\n",
      "processing ballina\n",
      "processing singkang\n",
      "processing nanortalik\n",
      "processing falam\n",
      "processing mahalingpur\n",
      "processing tawkar\n",
      "processing brandon\n",
      "processing moses lake\n",
      "processing maicao\n",
      "processing nago\n",
      "processing sosnovo-ozerskoye\n",
      "processing thinadhoo\n",
      "processing dalbandin\n",
      "processing kununurra\n",
      "processing sohbatpur\n",
      "processing urumqi\n",
      "processing derzhavinsk\n",
      "processing salinopolis\n",
      "processing caravelas\n",
      "processing madison\n",
      "processing jacksonville\n",
      "processing khorixas\n",
      "processing monrovia\n",
      "processing saharanpur\n",
      "processing ust-tsilma\n",
      "processing nata\n",
      "processing benito juarez\n",
      "processing sao felix do xingu\n",
      "processing visby\n",
      "processing abu dhabi\n",
      "processing udachnyy\n",
      "processing saint-joseph\n",
      "processing alappuzha\n",
      "processing elko\n",
      "processing xapuri\n",
      "processing skegness\n",
      "processing kutum\n",
      "processing artyk\n",
      "processing neftegorsk\n",
      "processing tilichiki\n",
      "processing general pico\n",
      "processing christchurch\n",
      "processing harper\n",
      "processing borovskoy\n",
      "processing aguimes\n",
      "processing kamaishi\n",
      "processing aflu\n",
      "processing vanimo\n",
      "processing chicama\n",
      "processing betanzos\n",
      "processing atambua\n",
      "processing ust-kuyga\n",
      "processing khasan\n",
      "processing mukhen\n",
      "processing aban\n",
      "processing beihai\n",
      "processing sivas\n",
      "processing gafanha da encarnacao\n",
      "processing dunedin\n",
      "processing hovd\n",
      "processing sigli\n",
      "processing yuzhno-yeniseyskiy\n",
      "processing kimbe\n",
      "processing general roca\n",
      "processing rio grande\n",
      "processing leningradskiy\n",
      "processing ust-ilimsk\n",
      "processing oriximina\n",
      "processing havre-saint-pierre\n",
      "processing hami\n",
      "processing isangel\n",
      "processing husavik\n",
      "processing high prairie\n",
      "processing marystown\n",
      "processing olenino\n",
      "processing iranshahr\n",
      "processing katsuura\n",
      "processing kigoma\n",
      "processing kikwit\n",
      "processing dukat\n",
      "processing yanchukan\n",
      "processing talnakh\n",
      "processing lydenburg\n",
      "processing belyy yar\n",
      "processing ambulu\n",
      "processing aquiraz\n",
      "processing axim\n",
      "processing stanislav\n",
      "processing taunggyi\n",
      "processing khorramshahr\n",
      "processing hue\n",
      "processing yar-sale\n",
      "processing marapanim\n",
      "processing knyaze-volkonskoye\n",
      "processing palestine\n",
      "processing bontang\n",
      "processing vilyuysk\n",
      "processing bowen\n",
      "processing dentsville\n",
      "processing andenes\n",
      "processing drummondville\n",
      "processing hoenheim\n",
      "processing wonthaggi\n",
      "processing mount isa\n",
      "processing sangar\n",
      "processing carnduff\n",
      "processing gorno-chuyskiy\n",
      "done\n"
     ]
    }
   ],
   "source": [
    "# {\"coord\":{\"lon\":-82.4584,\"lat\":27.9475},\"weather\":[{\"id\":804,\"main\":\"Clouds\",\"description\":\"overcast clouds\",\"icon\":\"04d\"}],\"base\":\"stations\",\"main\":{\"temp\":86.25,\"feels_like\":96.13,\"temp_min\":81.95,\"temp_max\":89.55,\"pressure\":1015,\"humidity\":71},\"visibility\":10000,\"wind\":{\"speed\":1.99,\"deg\":42,\"gust\":7},\"clouds\":{\"all\":90},\"dt\":1632084047,\"sys\":{\"type\":2,\"id\":2005199,\"country\":\"US\",\"sunrise\":1632050222,\"sunset\":1632094208},\"timezone\":-14400,\"id\":4174757,\"name\":\"Tampa\",\"cod\":200}\n",
    "\n",
    "#***Save all the result inside this \"city_data[]\" list, so we use this \"city_data[]\" to run the rest of the code, instead of requesting from API each time, or you'll use up the free API very fast.\n",
    "city_data=[]\n",
    "\n",
    "url = \"http://api.openweathermap.org/data/2.5/weather?units=Imperial&APPID=\" + weather_api_key\n",
    "\n",
    "for city in cities:\n",
    "    print('processing {}'.format(city))\n",
    "    \n",
    "    city_url = url + '&q='+ city\n",
    "#     print(city_url)\n",
    "    city_weather = requests.get(city_url).json()\n",
    "    city_data.append(city_weather)\n",
    "    \n",
    "\n",
    "print(\"done\")\n",
    "    \n",
    "    \n"
   ]
  },
  {
   "cell_type": "code",
   "execution_count": 7,
   "metadata": {},
   "outputs": [
    {
     "data": {
      "text/plain": [
       "647"
      ]
     },
     "execution_count": 7,
     "metadata": {},
     "output_type": "execute_result"
    }
   ],
   "source": [
    "len(city_data)"
   ]
  },
  {
   "cell_type": "code",
   "execution_count": 8,
   "metadata": {},
   "outputs": [
    {
     "data": {
      "text/plain": [
       "{'coord': {'lon': 168.8643, 'lat': -46.1927},\n",
       " 'weather': [{'id': 803,\n",
       "   'main': 'Clouds',\n",
       "   'description': 'broken clouds',\n",
       "   'icon': '04d'}],\n",
       " 'base': 'stations',\n",
       " 'main': {'temp': 45.48,\n",
       "  'feels_like': 42.04,\n",
       "  'temp_min': 45.48,\n",
       "  'temp_max': 45.48,\n",
       "  'pressure': 1010,\n",
       "  'humidity': 91,\n",
       "  'sea_level': 1010,\n",
       "  'grnd_level': 1004},\n",
       " 'visibility': 10000,\n",
       " 'wind': {'speed': 6.44, 'deg': 257, 'gust': 15.66},\n",
       " 'clouds': {'all': 53},\n",
       " 'dt': 1632606927,\n",
       " 'sys': {'type': 2,\n",
       "  'id': 2008959,\n",
       "  'country': 'NZ',\n",
       "  'sunrise': 1632594387,\n",
       "  'sunset': 1632638732},\n",
       " 'timezone': 46800,\n",
       " 'id': 6201424,\n",
       " 'name': 'Mataura',\n",
       " 'cod': 200}"
      ]
     },
     "execution_count": 8,
     "metadata": {},
     "output_type": "execute_result"
    }
   ],
   "source": [
    "city_data[0]"
   ]
  },
  {
   "cell_type": "code",
   "execution_count": 9,
   "metadata": {},
   "outputs": [
    {
     "data": {
      "text/plain": [
       "{'cod': '404', 'message': 'city not found'}"
      ]
     },
     "execution_count": 9,
     "metadata": {},
     "output_type": "execute_result"
    }
   ],
   "source": [
    "city_data[-1]"
   ]
  },
  {
   "cell_type": "code",
   "execution_count": 10,
   "metadata": {},
   "outputs": [
    {
     "ename": "KeyError",
     "evalue": "'coord'",
     "output_type": "error",
     "traceback": [
      "\u001b[1;31m---------------------------------------------------------------------------\u001b[0m",
      "\u001b[1;31mKeyError\u001b[0m                                  Traceback (most recent call last)",
      "\u001b[1;32m<ipython-input-10-cc4abe2da7f3>\u001b[0m in \u001b[0;36m<module>\u001b[1;34m\u001b[0m\n\u001b[1;32m----> 1\u001b[1;33m \u001b[0mcity_data\u001b[0m\u001b[1;33m[\u001b[0m\u001b[1;33m-\u001b[0m\u001b[1;36m1\u001b[0m\u001b[1;33m]\u001b[0m\u001b[1;33m[\u001b[0m\u001b[1;34m'coord'\u001b[0m\u001b[1;33m]\u001b[0m\u001b[1;33m[\u001b[0m\u001b[1;34m'lon'\u001b[0m\u001b[1;33m]\u001b[0m\u001b[1;33m\u001b[0m\u001b[1;33m\u001b[0m\u001b[0m\n\u001b[0m",
      "\u001b[1;31mKeyError\u001b[0m: 'coord'"
     ]
    }
   ],
   "source": [
    "city_data[-1]['coord']['lon']"
   ]
  },
  {
   "cell_type": "code",
   "execution_count": null,
   "metadata": {},
   "outputs": [],
   "source": [
    "city_data[-1]['coord']['lat']"
   ]
  },
  {
   "cell_type": "code",
   "execution_count": null,
   "metadata": {},
   "outputs": [],
   "source": [
    "city_data[-1]['cod']"
   ]
  },
  {
   "cell_type": "code",
   "execution_count": null,
   "metadata": {},
   "outputs": [],
   "source": [
    "for item in city_data:\n",
    "#     if city['cod']\n",
    "    \n",
    "    print(item)\n",
    "    print('')"
   ]
  },
  {
   "cell_type": "code",
   "execution_count": null,
   "metadata": {},
   "outputs": [],
   "source": [
    "kc=['a', 'b', 'c']\n",
    "\n",
    "for alpha in kc:\n",
    "    print(alpha)"
   ]
  },
  {
   "cell_type": "code",
   "execution_count": null,
   "metadata": {},
   "outputs": [],
   "source": [
    "for item in city_data:\n",
    "    if item['cod']==200:\n",
    "        \n",
    "        print(item['coord']['lon'])\n"
   ]
  },
  {
   "cell_type": "code",
   "execution_count": null,
   "metadata": {},
   "outputs": [],
   "source": [
    "for item in city_data:\n",
    "    if item['cod']!=200:\n",
    "        \n",
    "        print(item)"
   ]
  },
  {
   "cell_type": "code",
   "execution_count": null,
   "metadata": {},
   "outputs": [],
   "source": [
    "list_master=[]\n",
    "\n",
    "for item in city_data:\n",
    "    if item['cod'] == 200:\n",
    "        \n",
    "        #if the particular city's 'cod'= 200, retrieve the following information from this city.\n",
    "        latitude = item['coord']['lat']\n",
    "        longtitude = item['coord']['lon']\n",
    "        max_temperature = item['main']['temp_max']\n",
    "        humidity = item['main']['humidity']\n",
    "        clouds = item['clouds']['all']\n",
    "        wind_speed = item['wind']['speed']\n",
    "        country = item['sys']['country']\n",
    "        weather_date = item['dt']\n",
    "        city_name = item['name']\n",
    "        \n",
    "        # create a dictionary of one city\n",
    "        dict_city = {'City': city_name, 'Latitude': latitude, 'Longtitude': longtitude, 'Max Temperature': max_temperature, 'Humidity': humidity,\n",
    "                     'Clouds': clouds, 'Wind Speed': wind_speed, 'Country': country, 'Weather Date': weather_date}\n",
    "        \n",
    "        # adding this dictionary to the master list\n",
    "        list_master.append(dict_city)\n",
    "           \n",
    "        \n",
    "#         print(item['coord']['lon'])"
   ]
  },
  {
   "cell_type": "code",
   "execution_count": null,
   "metadata": {},
   "outputs": [],
   "source": [
    "# city_data[0]\n"
   ]
  },
  {
   "cell_type": "markdown",
   "metadata": {},
   "source": [
    "### Convert Raw Data to DataFrame\n",
    "* Export the city data into a .csv.\n",
    "* Display the DataFrame"
   ]
  },
  {
   "cell_type": "code",
   "execution_count": null,
   "metadata": {},
   "outputs": [],
   "source": [
    "# df = pd.DataFrame(data = results)"
   ]
  },
  {
   "cell_type": "code",
   "execution_count": null,
   "metadata": {},
   "outputs": [],
   "source": [
    "df = pd.DataFrame(list_master)\n",
    "df.head()"
   ]
  },
  {
   "cell_type": "code",
   "execution_count": null,
   "metadata": {},
   "outputs": [],
   "source": [
    "df = pd.DataFrame(list_master)\n",
    "df.head()\n",
    "\n",
    "df.to_csv('complete_weather_info.csv', index=False)\n"
   ]
  },
  {
   "cell_type": "code",
   "execution_count": null,
   "metadata": {},
   "outputs": [],
   "source": [
    "new_df = pd.read_csv('complete_weather_info.csv')\n",
    "new_df.head()"
   ]
  },
  {
   "cell_type": "code",
   "execution_count": null,
   "metadata": {},
   "outputs": [],
   "source": [
    "new_df.info()"
   ]
  },
  {
   "cell_type": "code",
   "execution_count": null,
   "metadata": {},
   "outputs": [],
   "source": [
    "query = new_df['Humidity'] > 100\n",
    "dfhumiditygt100 = new_df[query]\n",
    "dfhumiditygt100.head()\n",
    "\n",
    "#alternative\n",
    "# dfhumiditygt100 = new_df[new_df['Humidity'] > 100]"
   ]
  },
  {
   "cell_type": "markdown",
   "metadata": {},
   "source": [
    "## Inspect the data and remove the cities where the humidity > 100%.\n",
    "----\n",
    "Skip this step if there are no cities that have humidity > 100%. "
   ]
  },
  {
   "cell_type": "code",
   "execution_count": null,
   "metadata": {
    "scrolled": false
   },
   "outputs": [],
   "source": [
    "query = new_df['Humidity'] > 100\n",
    "dfhumiditygt100 = new_df[query]\n",
    "dfhumiditygt100.head()\n",
    "\n",
    "#alternative\n",
    "# dfhumiditygt100 = new_df[new_df['Humidity'] > 100]"
   ]
  },
  {
   "cell_type": "code",
   "execution_count": null,
   "metadata": {},
   "outputs": [],
   "source": [
    "#  Get the indices of cities that have humidity over 100%.\n",
    "# Answer: No cities that have humidity over 100%."
   ]
  },
  {
   "cell_type": "code",
   "execution_count": null,
   "metadata": {},
   "outputs": [],
   "source": [
    "# Make a new DataFrame equal to the city data to drop all humidity outliers by index.\n",
    "# Passing \"inplace=False\" will make a copy of the city_data DataFrame,which we call \"clean_city_data\".\n",
    "\n",
    "\n",
    "# tryquery = new_df['Humidity'] > 60\n",
    "# index60 = new_df[tryquery].index\n",
    "\n",
    "# dfless60 = new_df.drop(index60)\n",
    "# dfless60.head()\n",
    "\n",
    "\n",
    "query = new_df['Humidity'] > 100\n",
    "index100 = new_df[query].index\n",
    "\n",
    "df_clean_weather = new_df.drop(index100)\n",
    "df_clean_weather.head()\n",
    "\n"
   ]
  },
  {
   "cell_type": "code",
   "execution_count": null,
   "metadata": {},
   "outputs": [],
   "source": [
    "# Extract relevant fields from the data frame\n",
    "\n",
    "latitude = df_clean_weather['Latitude']\n",
    "max_temperature = df_clean_weather['Max Temperature']\n",
    "humidity = df_clean_weather['Humidity']\n",
    "clouds = df_clean_weather['Clouds']\n",
    "wind_speed = df_clean_weather['Wind Speed']\n",
    "\n",
    "# Export the City_Data into a csv\n",
    "df_clean_weather.to_csv('clean_weather_info.csv', index=False)"
   ]
  },
  {
   "cell_type": "markdown",
   "metadata": {},
   "source": [
    "## Plotting the Data\n",
    "* Use proper labeling of the plots using plot titles (including date of analysis) and axes labels.\n",
    "* Save the plotted figures as .pngs."
   ]
  },
  {
   "cell_type": "markdown",
   "metadata": {},
   "source": [
    "## Latitude vs. Temperature Plot"
   ]
  },
  {
   "cell_type": "code",
   "execution_count": null,
   "metadata": {
    "scrolled": true
   },
   "outputs": [],
   "source": [
    "latitude"
   ]
  },
  {
   "cell_type": "code",
   "execution_count": null,
   "metadata": {},
   "outputs": [],
   "source": [
    "type(max_temperature)\n",
    "\n",
    "#One column data is a series,and multiple columns is a DataFrame."
   ]
  },
  {
   "cell_type": "code",
   "execution_count": null,
   "metadata": {},
   "outputs": [],
   "source": [
    "type(df_clean_weather)"
   ]
  },
  {
   "cell_type": "code",
   "execution_count": null,
   "metadata": {
    "scrolled": true
   },
   "outputs": [],
   "source": [
    "plt.scatter(latitude, max_temperature, marker='o', \n",
    "            linewidths=1, edgecolor='black', alpha=0.5)\n",
    "\n",
    "plt.title('Latitude V.S. Max Temperature')\n",
    "plt.xlabel('Latitude')\n",
    "plt.ylabel('Max Temperature')\n",
    "\n",
    "plt.grid(True)\n",
    "\n",
    "plt.savefig(\"images/Latitude_vs_MaxTemperature.png\")\n",
    "# plt.savefig(\"Latitude_vs_MaxTemperature.png\")\n",
    "plt.show()\n"
   ]
  },
  {
   "cell_type": "markdown",
   "metadata": {},
   "source": [
    "## Latitude vs. Humidity Plot"
   ]
  },
  {
   "cell_type": "code",
   "execution_count": null,
   "metadata": {},
   "outputs": [],
   "source": [
    "plt.scatter(latitude, humidity, marker='o', \n",
    "            linewidths=1, edgecolor='black', alpha=0.5)\n",
    "\n",
    "plt.title('Latitude V.S. Humidity Plot')\n",
    "plt.xlabel('Latitude')\n",
    "plt.ylabel('Humidity Plot')\n",
    "\n",
    "plt.grid(True)\n",
    "\n",
    "plt.savefig(\"images/Latitude_vs_Humidity.png\")\n",
    "plt.show()"
   ]
  },
  {
   "cell_type": "markdown",
   "metadata": {},
   "source": [
    "## Latitude vs. Cloudiness Plot"
   ]
  },
  {
   "cell_type": "code",
   "execution_count": null,
   "metadata": {},
   "outputs": [],
   "source": [
    "plt.scatter(latitude, clouds, marker='o', \n",
    "            linewidths=1, edgecolor='black', alpha=0.5)\n",
    "\n",
    "plt.title('Latitude V.S. Cloudiness Plot')\n",
    "plt.xlabel('Latitude')\n",
    "plt.ylabel('Cloudiness')\n",
    "\n",
    "plt.grid(True)\n",
    "\n",
    "plt.savefig(\"images/Latitude_vs_Cloudiness.png\")\n",
    "plt.show()"
   ]
  },
  {
   "cell_type": "markdown",
   "metadata": {},
   "source": [
    "## Latitude vs. Wind Speed Plot"
   ]
  },
  {
   "cell_type": "code",
   "execution_count": null,
   "metadata": {},
   "outputs": [],
   "source": [
    "plt.scatter(latitude, wind_speed, marker='o', \n",
    "            linewidths=1, edgecolor='black', alpha=0.5)\n",
    "\n",
    "plt.title('Latitude V.S. Wind Speed')\n",
    "plt.xlabel('Latitude')\n",
    "plt.ylabel('Wind Speed')\n",
    "\n",
    "plt.grid(True)\n",
    "\n",
    "plt.savefig(\"images/Latitude_vs_Wind_Speed.png\")\n",
    "plt.show()"
   ]
  },
  {
   "cell_type": "markdown",
   "metadata": {},
   "source": [
    "## Linear Regression"
   ]
  },
  {
   "cell_type": "code",
   "execution_count": null,
   "metadata": {},
   "outputs": [],
   "source": [
    "# OPTIONAL: Create a function to create Linear Regression plots"
   ]
  },
  {
   "cell_type": "code",
   "execution_count": null,
   "metadata": {},
   "outputs": [],
   "source": [
    "# Create Northern and Southern Hemisphere DataFrames"
   ]
  },
  {
   "cell_type": "markdown",
   "metadata": {},
   "source": [
    "####  Northern Hemisphere - Max Temp vs. Latitude Linear Regression"
   ]
  },
  {
   "cell_type": "code",
   "execution_count": null,
   "metadata": {},
   "outputs": [],
   "source": [
    "# Range of latitudes and longitudes\n",
    "lat_range = (-90, 90)\n",
    "lng_range = (-180, 180)"
   ]
  },
  {
   "cell_type": "code",
   "execution_count": null,
   "metadata": {},
   "outputs": [],
   "source": [
    "df_clean_weather"
   ]
  },
  {
   "cell_type": "code",
   "execution_count": null,
   "metadata": {},
   "outputs": [],
   "source": []
  },
  {
   "cell_type": "markdown",
   "metadata": {},
   "source": [
    "####  Southern Hemisphere - Max Temp vs. Latitude Linear Regression"
   ]
  },
  {
   "cell_type": "code",
   "execution_count": null,
   "metadata": {},
   "outputs": [],
   "source": [
    "lat_range = (-90, 90)\n",
    "lng_range = (-180, 180)"
   ]
  },
  {
   "cell_type": "markdown",
   "metadata": {},
   "source": [
    "####  Northern Hemisphere - Humidity (%) vs. Latitude Linear Regression"
   ]
  },
  {
   "cell_type": "code",
   "execution_count": null,
   "metadata": {},
   "outputs": [],
   "source": []
  },
  {
   "cell_type": "markdown",
   "metadata": {},
   "source": [
    "####  Southern Hemisphere - Humidity (%) vs. Latitude Linear Regression"
   ]
  },
  {
   "cell_type": "code",
   "execution_count": null,
   "metadata": {},
   "outputs": [],
   "source": []
  },
  {
   "cell_type": "markdown",
   "metadata": {},
   "source": [
    "####  Northern Hemisphere - Cloudiness (%) vs. Latitude Linear Regression"
   ]
  },
  {
   "cell_type": "code",
   "execution_count": null,
   "metadata": {},
   "outputs": [],
   "source": []
  },
  {
   "cell_type": "markdown",
   "metadata": {},
   "source": [
    "####  Southern Hemisphere - Cloudiness (%) vs. Latitude Linear Regression"
   ]
  },
  {
   "cell_type": "code",
   "execution_count": null,
   "metadata": {},
   "outputs": [],
   "source": []
  },
  {
   "cell_type": "markdown",
   "metadata": {},
   "source": [
    "####  Northern Hemisphere - Wind Speed (mph) vs. Latitude Linear Regression"
   ]
  },
  {
   "cell_type": "code",
   "execution_count": null,
   "metadata": {},
   "outputs": [],
   "source": []
  },
  {
   "cell_type": "markdown",
   "metadata": {},
   "source": [
    "####  Southern Hemisphere - Wind Speed (mph) vs. Latitude Linear Regression"
   ]
  },
  {
   "cell_type": "code",
   "execution_count": null,
   "metadata": {},
   "outputs": [],
   "source": []
  },
  {
   "cell_type": "code",
   "execution_count": null,
   "metadata": {},
   "outputs": [],
   "source": []
  }
 ],
 "metadata": {
  "anaconda-cloud": {},
  "kernel_info": {
   "name": "python3"
  },
  "kernelspec": {
   "display_name": "Python 3",
   "language": "python",
   "name": "python3"
  },
  "language_info": {
   "codemirror_mode": {
    "name": "ipython",
    "version": 3
   },
   "file_extension": ".py",
   "mimetype": "text/x-python",
   "name": "python",
   "nbconvert_exporter": "python",
   "pygments_lexer": "ipython3",
   "version": "3.8.8"
  },
  "latex_envs": {
   "LaTeX_envs_menu_present": true,
   "autoclose": false,
   "autocomplete": true,
   "bibliofile": "biblio.bib",
   "cite_by": "apalike",
   "current_citInitial": 1,
   "eqLabelWithNumbers": true,
   "eqNumInitial": 1,
   "hotkeys": {
    "equation": "Ctrl-E",
    "itemize": "Ctrl-I"
   },
   "labels_anchors": false,
   "latex_user_defs": false,
   "report_style_numbering": false,
   "user_envs_cfg": false
  },
  "nteract": {
   "version": "0.12.3"
  }
 },
 "nbformat": 4,
 "nbformat_minor": 2
}
