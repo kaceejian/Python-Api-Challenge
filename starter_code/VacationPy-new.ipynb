{
 "cells": [
  {
   "cell_type": "markdown",
   "metadata": {},
   "source": [
    "# VacationPy"
   ]
  },
  {
   "cell_type": "code",
   "execution_count": 1,
   "metadata": {},
   "outputs": [],
   "source": [
    "# Dependencies and Setup\n",
    "import matplotlib.pyplot as plt\n",
    "import pandas as pd\n",
    "import numpy as np\n",
    "import requests\n",
    "import gmaps\n",
    "import os\n",
    "\n",
    "# Import API key\n",
    "from my_keys3 import g2_key"
   ]
  },
  {
   "cell_type": "code",
   "execution_count": 2,
   "metadata": {
    "scrolled": true
   },
   "outputs": [],
   "source": [
    "# pip install matplotlib==3.2"
   ]
  },
  {
   "cell_type": "code",
   "execution_count": 3,
   "metadata": {},
   "outputs": [],
   "source": [
    "# pip install requests"
   ]
  },
  {
   "cell_type": "code",
   "execution_count": 4,
   "metadata": {},
   "outputs": [],
   "source": [
    "# pip install os"
   ]
  },
  {
   "cell_type": "code",
   "execution_count": 5,
   "metadata": {},
   "outputs": [],
   "source": [
    "# pip install matplotlib"
   ]
  },
  {
   "cell_type": "code",
   "execution_count": 6,
   "metadata": {},
   "outputs": [],
   "source": [
    "# pip install requests"
   ]
  },
  {
   "cell_type": "code",
   "execution_count": 7,
   "metadata": {},
   "outputs": [],
   "source": [
    "# pip install gmaps"
   ]
  },
  {
   "cell_type": "markdown",
   "metadata": {},
   "source": [
    "### Store Part I results into DataFrame\n",
    "* Load the csv exported in Part I to a DataFrame"
   ]
  },
  {
   "cell_type": "code",
   "execution_count": 8,
   "metadata": {
    "scrolled": true
   },
   "outputs": [
    {
     "data": {
      "text/html": [
       "<div>\n",
       "<style scoped>\n",
       "    .dataframe tbody tr th:only-of-type {\n",
       "        vertical-align: middle;\n",
       "    }\n",
       "\n",
       "    .dataframe tbody tr th {\n",
       "        vertical-align: top;\n",
       "    }\n",
       "\n",
       "    .dataframe thead th {\n",
       "        text-align: right;\n",
       "    }\n",
       "</style>\n",
       "<table border=\"1\" class=\"dataframe\">\n",
       "  <thead>\n",
       "    <tr style=\"text-align: right;\">\n",
       "      <th></th>\n",
       "      <th>City</th>\n",
       "      <th>Latitude</th>\n",
       "      <th>Longtitude</th>\n",
       "      <th>Max Temperature</th>\n",
       "      <th>Humidity</th>\n",
       "      <th>Clouds</th>\n",
       "      <th>Wind Speed</th>\n",
       "      <th>Country</th>\n",
       "      <th>Weather Date</th>\n",
       "    </tr>\n",
       "  </thead>\n",
       "  <tbody>\n",
       "    <tr>\n",
       "      <th>0</th>\n",
       "      <td>Port Alfred</td>\n",
       "      <td>-33.5906</td>\n",
       "      <td>26.8910</td>\n",
       "      <td>73.22</td>\n",
       "      <td>88</td>\n",
       "      <td>97</td>\n",
       "      <td>8.81</td>\n",
       "      <td>ZA</td>\n",
       "      <td>1643226535</td>\n",
       "    </tr>\n",
       "    <tr>\n",
       "      <th>1</th>\n",
       "      <td>Mataura</td>\n",
       "      <td>-46.1927</td>\n",
       "      <td>168.8643</td>\n",
       "      <td>52.48</td>\n",
       "      <td>96</td>\n",
       "      <td>61</td>\n",
       "      <td>4.63</td>\n",
       "      <td>NZ</td>\n",
       "      <td>1643226535</td>\n",
       "    </tr>\n",
       "    <tr>\n",
       "      <th>2</th>\n",
       "      <td>Blagoyevo</td>\n",
       "      <td>63.3667</td>\n",
       "      <td>47.9167</td>\n",
       "      <td>13.41</td>\n",
       "      <td>97</td>\n",
       "      <td>100</td>\n",
       "      <td>3.58</td>\n",
       "      <td>RU</td>\n",
       "      <td>1643226536</td>\n",
       "    </tr>\n",
       "    <tr>\n",
       "      <th>3</th>\n",
       "      <td>Thompson</td>\n",
       "      <td>55.7435</td>\n",
       "      <td>-97.8558</td>\n",
       "      <td>6.96</td>\n",
       "      <td>72</td>\n",
       "      <td>75</td>\n",
       "      <td>12.66</td>\n",
       "      <td>CA</td>\n",
       "      <td>1643226334</td>\n",
       "    </tr>\n",
       "    <tr>\n",
       "      <th>4</th>\n",
       "      <td>Dikson</td>\n",
       "      <td>73.5069</td>\n",
       "      <td>80.5464</td>\n",
       "      <td>13.68</td>\n",
       "      <td>92</td>\n",
       "      <td>100</td>\n",
       "      <td>28.97</td>\n",
       "      <td>RU</td>\n",
       "      <td>1643226536</td>\n",
       "    </tr>\n",
       "    <tr>\n",
       "      <th>5</th>\n",
       "      <td>Beringovskiy</td>\n",
       "      <td>63.0500</td>\n",
       "      <td>179.3167</td>\n",
       "      <td>-6.65</td>\n",
       "      <td>99</td>\n",
       "      <td>100</td>\n",
       "      <td>3.38</td>\n",
       "      <td>RU</td>\n",
       "      <td>1643226537</td>\n",
       "    </tr>\n",
       "    <tr>\n",
       "      <th>6</th>\n",
       "      <td>Zyryanka</td>\n",
       "      <td>65.7500</td>\n",
       "      <td>150.8500</td>\n",
       "      <td>-39.89</td>\n",
       "      <td>99</td>\n",
       "      <td>60</td>\n",
       "      <td>6.85</td>\n",
       "      <td>RU</td>\n",
       "      <td>1643226537</td>\n",
       "    </tr>\n",
       "    <tr>\n",
       "      <th>7</th>\n",
       "      <td>Albany</td>\n",
       "      <td>42.6001</td>\n",
       "      <td>-73.9662</td>\n",
       "      <td>21.52</td>\n",
       "      <td>44</td>\n",
       "      <td>14</td>\n",
       "      <td>8.01</td>\n",
       "      <td>US</td>\n",
       "      <td>1643226517</td>\n",
       "    </tr>\n",
       "    <tr>\n",
       "      <th>8</th>\n",
       "      <td>Ilulissat</td>\n",
       "      <td>69.2167</td>\n",
       "      <td>-51.1000</td>\n",
       "      <td>17.62</td>\n",
       "      <td>73</td>\n",
       "      <td>75</td>\n",
       "      <td>16.11</td>\n",
       "      <td>GL</td>\n",
       "      <td>1643226538</td>\n",
       "    </tr>\n",
       "    <tr>\n",
       "      <th>9</th>\n",
       "      <td>Castro</td>\n",
       "      <td>-24.7911</td>\n",
       "      <td>-50.0119</td>\n",
       "      <td>86.41</td>\n",
       "      <td>51</td>\n",
       "      <td>27</td>\n",
       "      <td>5.64</td>\n",
       "      <td>BR</td>\n",
       "      <td>1643226457</td>\n",
       "    </tr>\n",
       "  </tbody>\n",
       "</table>\n",
       "</div>"
      ],
      "text/plain": [
       "           City  Latitude  Longtitude  Max Temperature  Humidity  Clouds  \\\n",
       "0   Port Alfred  -33.5906     26.8910            73.22        88      97   \n",
       "1       Mataura  -46.1927    168.8643            52.48        96      61   \n",
       "2     Blagoyevo   63.3667     47.9167            13.41        97     100   \n",
       "3      Thompson   55.7435    -97.8558             6.96        72      75   \n",
       "4        Dikson   73.5069     80.5464            13.68        92     100   \n",
       "5  Beringovskiy   63.0500    179.3167            -6.65        99     100   \n",
       "6      Zyryanka   65.7500    150.8500           -39.89        99      60   \n",
       "7        Albany   42.6001    -73.9662            21.52        44      14   \n",
       "8     Ilulissat   69.2167    -51.1000            17.62        73      75   \n",
       "9        Castro  -24.7911    -50.0119            86.41        51      27   \n",
       "\n",
       "   Wind Speed Country  Weather Date  \n",
       "0        8.81      ZA    1643226535  \n",
       "1        4.63      NZ    1643226535  \n",
       "2        3.58      RU    1643226536  \n",
       "3       12.66      CA    1643226334  \n",
       "4       28.97      RU    1643226536  \n",
       "5        3.38      RU    1643226537  \n",
       "6        6.85      RU    1643226537  \n",
       "7        8.01      US    1643226517  \n",
       "8       16.11      GL    1643226538  \n",
       "9        5.64      BR    1643226457  "
      ]
     },
     "execution_count": 8,
     "metadata": {},
     "output_type": "execute_result"
    }
   ],
   "source": [
    "weather_df = pd.read_csv('./clean_weather_info.csv')\n",
    "weather_df.head(10)"
   ]
  },
  {
   "cell_type": "markdown",
   "metadata": {},
   "source": [
    "### Humidity Heatmap\n",
    "* Configure gmaps.\n",
    "* Use the Lat and Lng as locations and Humidity as the weight.\n",
    "* Add Heatmap layer to map."
   ]
  },
  {
   "cell_type": "code",
   "execution_count": 9,
   "metadata": {},
   "outputs": [
    {
     "data": {
      "application/vnd.jupyter.widget-view+json": {
       "model_id": "02936f0139d74eff8244249323a22b9a",
       "version_major": 2,
       "version_minor": 0
      },
      "text/plain": [
       "Figure(layout=FigureLayout(height='420px'))"
      ]
     },
     "metadata": {},
     "output_type": "display_data"
    }
   ],
   "source": [
    "gmaps.configure(api_key=g2_key)\n",
    "\n",
    "fig = gmaps.figure()\n",
    "\n",
    "heatmap_layer = gmaps.heatmap_layer(\n",
    "    weather_df[['Latitude', 'Longtitude']], weights=weather_df['Humidity'], max_intensity=30, point_radius=2.0\n",
    ")\n",
    "fig.add_layer(heatmap_layer)\n",
    "fig"
   ]
  },
  {
   "cell_type": "markdown",
   "metadata": {},
   "source": [
    "### Create new DataFrame fitting weather criteria\n",
    "* Narrow down the cities to fit weather conditions.\n",
    "* Drop any rows will null values."
   ]
  },
  {
   "cell_type": "code",
   "execution_count": 10,
   "metadata": {},
   "outputs": [],
   "source": [
    "#A max temperature lower than 80 degrees but higher than 70.\n",
    "temperature_filtered_df = weather_df[(weather_df['Max Temperature'] <= 80) & (weather_df['Max Temperature'] > 70)]\n",
    "\n",
    "# Wind speed less than 10 mph.\n",
    "speed_filtered_df = temperature_filtered_df[temperature_filtered_df['Wind Speed'] < 10]\n",
    "\n",
    "# Zero cloudiness.\n",
    "cloud_f_df = speed_filtered_df[speed_filtered_df['Clouds'] == 0]"
   ]
  },
  {
   "cell_type": "markdown",
   "metadata": {},
   "source": [
    "### Hotel Map\n",
    "* Store into variable named `hotel_df`.\n",
    "* Add a \"Hotel Name\" column to the DataFrame.\n",
    "* Set parameters to search for hotels with 5000 meters.\n",
    "* Hit the Google Places API for each city's coordinates.\n",
    "* Store the first Hotel result into the DataFrame.\n",
    "* Plot markers on top of the heatmap."
   ]
  },
  {
   "cell_type": "code",
   "execution_count": 13,
   "metadata": {},
   "outputs": [
    {
     "data": {
      "text/html": [
       "<div>\n",
       "<style scoped>\n",
       "    .dataframe tbody tr th:only-of-type {\n",
       "        vertical-align: middle;\n",
       "    }\n",
       "\n",
       "    .dataframe tbody tr th {\n",
       "        vertical-align: top;\n",
       "    }\n",
       "\n",
       "    .dataframe thead th {\n",
       "        text-align: right;\n",
       "    }\n",
       "</style>\n",
       "<table border=\"1\" class=\"dataframe\">\n",
       "  <thead>\n",
       "    <tr style=\"text-align: right;\">\n",
       "      <th></th>\n",
       "      <th>City</th>\n",
       "      <th>Latitude</th>\n",
       "      <th>Longtitude</th>\n",
       "      <th>Max Temperature</th>\n",
       "      <th>Humidity</th>\n",
       "      <th>Clouds</th>\n",
       "      <th>Wind Speed</th>\n",
       "      <th>Country</th>\n",
       "      <th>Weather Date</th>\n",
       "      <th>Hotel Name</th>\n",
       "      <th>Lat</th>\n",
       "      <th>Lng</th>\n",
       "    </tr>\n",
       "  </thead>\n",
       "  <tbody>\n",
       "    <tr>\n",
       "      <th>56</th>\n",
       "      <td>Cape Town</td>\n",
       "      <td>-33.9258</td>\n",
       "      <td>18.4232</td>\n",
       "      <td>70.21</td>\n",
       "      <td>78</td>\n",
       "      <td>0</td>\n",
       "      <td>4.00</td>\n",
       "      <td>ZA</td>\n",
       "      <td>1643226556</td>\n",
       "      <td>None</td>\n",
       "      <td>-33.9258</td>\n",
       "      <td>18.4232</td>\n",
       "    </tr>\n",
       "    <tr>\n",
       "      <th>103</th>\n",
       "      <td>Tecámac</td>\n",
       "      <td>19.7333</td>\n",
       "      <td>-98.9667</td>\n",
       "      <td>70.99</td>\n",
       "      <td>25</td>\n",
       "      <td>0</td>\n",
       "      <td>4.25</td>\n",
       "      <td>MX</td>\n",
       "      <td>1643226574</td>\n",
       "      <td>None</td>\n",
       "      <td>19.7333</td>\n",
       "      <td>-98.9667</td>\n",
       "    </tr>\n",
       "    <tr>\n",
       "      <th>381</th>\n",
       "      <td>Makakilo City</td>\n",
       "      <td>21.3469</td>\n",
       "      <td>-158.0858</td>\n",
       "      <td>77.29</td>\n",
       "      <td>70</td>\n",
       "      <td>0</td>\n",
       "      <td>5.75</td>\n",
       "      <td>US</td>\n",
       "      <td>1643226683</td>\n",
       "      <td>None</td>\n",
       "      <td>21.3469</td>\n",
       "      <td>-158.0858</td>\n",
       "    </tr>\n",
       "    <tr>\n",
       "      <th>535</th>\n",
       "      <td>Kétou</td>\n",
       "      <td>7.3633</td>\n",
       "      <td>2.5998</td>\n",
       "      <td>78.21</td>\n",
       "      <td>31</td>\n",
       "      <td>0</td>\n",
       "      <td>5.66</td>\n",
       "      <td>BJ</td>\n",
       "      <td>1643226742</td>\n",
       "      <td>None</td>\n",
       "      <td>7.3633</td>\n",
       "      <td>2.5998</td>\n",
       "    </tr>\n",
       "  </tbody>\n",
       "</table>\n",
       "</div>"
      ],
      "text/plain": [
       "              City  Latitude  Longtitude  Max Temperature  Humidity  Clouds  \\\n",
       "56       Cape Town  -33.9258     18.4232            70.21        78       0   \n",
       "103        Tecámac   19.7333    -98.9667            70.99        25       0   \n",
       "381  Makakilo City   21.3469   -158.0858            77.29        70       0   \n",
       "535          Kétou    7.3633      2.5998            78.21        31       0   \n",
       "\n",
       "     Wind Speed Country  Weather Date Hotel Name      Lat       Lng  \n",
       "56         4.00      ZA    1643226556       None -33.9258   18.4232  \n",
       "103        4.25      MX    1643226574       None  19.7333  -98.9667  \n",
       "381        5.75      US    1643226683       None  21.3469 -158.0858  \n",
       "535        5.66      BJ    1643226742       None   7.3633    2.5998  "
      ]
     },
     "execution_count": 13,
     "metadata": {},
     "output_type": "execute_result"
    }
   ],
   "source": [
    "import json\n",
    "\n",
    "hotel_df = cloud_f_df.copy()\n",
    "\n",
    "hotel_names = []\n",
    "for _, row in hotel_df.iterrows():\n",
    "    latitude = row['Latitude']\n",
    "    longtitude = row['Longtitude']    \n",
    "\n",
    "    # Query places api for nearest hotel, if exists add to list\n",
    "    endpoint_url = f\"https://maps.googleapis.com/maps/api/place/textsearch/json?query=hotel&location={latitude},{longtitude}&radius=5000&region=us&key={g2_key}\"\n",
    "    response = requests.get(endpoint_url, params = {})\n",
    "    results = json.loads(response.content)['results']\n",
    "    \n",
    "    hotel_name = None\n",
    "    if len(results) > 0:\n",
    "        hotel_name = results[0]['name']\n",
    "\n",
    "    hotel_names.append(hotel_name)\n",
    "\n",
    "hotel_df['Hotel Name'] = hotel_names\n",
    "hotel_df['Lat'] = hotel_df['Latitude']\n",
    "hotel_df['Lng'] = hotel_df['Longtitude']\n",
    "hotel_df.head(10)"
   ]
  },
  {
   "cell_type": "code",
   "execution_count": 14,
   "metadata": {},
   "outputs": [],
   "source": [
    "# NOTE: Do not change any of the code in this cell\n",
    "\n",
    "# Using the template add the hotel marks to the heatmap\n",
    "info_box_template = \"\"\"\n",
    "<dl>\n",
    "<dt>Name</dt><dd>{Hotel Name}</dd>\n",
    "<dt>City</dt><dd>{City}</dd>\n",
    "<dt>Country</dt><dd>{Country}</dd>\n",
    "</dl>\n",
    "\"\"\"\n",
    "# Store the DataFrame Row\n",
    "# NOTE: be sure to update with your DataFrame name\n",
    "hotel_info = [info_box_template.format(**row) for index, row in hotel_df.iterrows()]\n",
    "locations = hotel_df[[\"Lat\", \"Lng\"]]"
   ]
  },
  {
   "cell_type": "code",
   "execution_count": 15,
   "metadata": {},
   "outputs": [
    {
     "data": {
      "application/vnd.jupyter.widget-view+json": {
       "model_id": "02936f0139d74eff8244249323a22b9a",
       "version_major": 2,
       "version_minor": 0
      },
      "text/plain": [
       "Figure(layout=FigureLayout(height='420px'))"
      ]
     },
     "metadata": {},
     "output_type": "display_data"
    }
   ],
   "source": [
    "# Add marker layer ontop of heat map\n",
    "marker_layer = gmaps.symbol_layer(\n",
    "            locations, info_box_content=hotel_info)\n",
    "fig.add_layer(marker_layer)\n",
    "\n",
    "# Display figure\n",
    "fig\n",
    "\n"
   ]
  }
 ],
 "metadata": {
  "kernelspec": {
   "display_name": "Python 3",
   "language": "python",
   "name": "python3"
  },
  "language_info": {
   "codemirror_mode": {
    "name": "ipython",
    "version": 3
   },
   "file_extension": ".py",
   "mimetype": "text/x-python",
   "name": "python",
   "nbconvert_exporter": "python",
   "pygments_lexer": "ipython3",
   "version": "3.8.8"
  },
  "latex_envs": {
   "LaTeX_envs_menu_present": true,
   "autoclose": false,
   "autocomplete": true,
   "bibliofile": "biblio.bib",
   "cite_by": "apalike",
   "current_citInitial": 1,
   "eqLabelWithNumbers": true,
   "eqNumInitial": 1,
   "hotkeys": {
    "equation": "Ctrl-E",
    "itemize": "Ctrl-I"
   },
   "labels_anchors": false,
   "latex_user_defs": false,
   "report_style_numbering": false,
   "user_envs_cfg": false
  }
 },
 "nbformat": 4,
 "nbformat_minor": 2
}
